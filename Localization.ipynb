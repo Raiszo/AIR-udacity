{
 "cells": [
  {
   "cell_type": "code",
   "execution_count": 1,
   "metadata": {},
   "outputs": [],
   "source": [
    "import numpy as np"
   ]
  },
  {
   "cell_type": "code",
   "execution_count": 5,
   "metadata": {},
   "outputs": [],
   "source": [
    "\"\"\"\n",
    "    P is the probability distribution of our believe of localization\n",
    "    in the world\n",
    "\"\"\"\n",
    "P = np.array([0.2, 0.2, 0.2, 0.2, 0.2])\n",
    "\n",
    "world = ['green', 'red', 'red', 'green', 'green']\n",
    "\n",
    "pHit, pMiss = 0.6, 0.2"
   ]
  },
  {
   "cell_type": "code",
   "execution_count": 35,
   "metadata": {},
   "outputs": [],
   "source": [
    "def sense(p, z):\n",
    "    q = np.zeros_like(p)\n",
    "    \n",
    "    for i in range(p.shape[0]):\n",
    "        hit = (z == world[i])\n",
    "        q[i] = p[i] * (hit * pHit + (1-hit) * pMiss)\n",
    "        \n",
    "    q /= q.sum()\n",
    "    return q"
   ]
  },
  {
   "cell_type": "code",
   "execution_count": 42,
   "metadata": {},
   "outputs": [
    {
     "name": "stdout",
     "output_type": "stream",
     "text": [
      "[0.11111111 0.33333333 0.33333333 0.11111111 0.11111111]\n"
     ]
    }
   ],
   "source": [
    "# The robots senses a he's in a 'green' place\n",
    "Z = 'red'\n",
    "print(sense(P, Z))"
   ]
  },
  {
   "cell_type": "code",
   "execution_count": 54,
   "metadata": {},
   "outputs": [],
   "source": [
    "def multi_sens(p, z):\n",
    "    q = p.copy()\n",
    "    \n",
    "    for measurement in z:\n",
    "        q = sense(q, measurement)\n",
    "    return q"
   ]
  },
  {
   "cell_type": "code",
   "execution_count": 55,
   "metadata": {},
   "outputs": [
    {
     "name": "stdout",
     "output_type": "stream",
     "text": [
      "[0.2 0.2 0.2 0.2 0.2]\n"
     ]
    }
   ],
   "source": [
    "Z = ['red', 'green']\n",
    "print(multi_sens(P, Z))"
   ]
  },
  {
   "cell_type": "code",
   "execution_count": 68,
   "metadata": {},
   "outputs": [],
   "source": [
    "def move(p, u):\n",
    "    u = u % p.shape[0]\n",
    "    # put the last u elements in front of the others\n",
    "    return np.concatenate((p[-u:], p[:-u]))"
   ]
  },
  {
   "cell_type": "code",
   "execution_count": 69,
   "metadata": {},
   "outputs": [
    {
     "name": "stdout",
     "output_type": "stream",
     "text": [
      "[0 0 0 1 0]\n"
     ]
    }
   ],
   "source": [
    "P = np.array([0, 1, 0, 0, 0])\n",
    "print(move(P, 2))"
   ]
  }
 ],
 "metadata": {
  "kernelspec": {
   "display_name": "Python3 .env",
   "language": "python",
   "name": "env"
  },
  "language_info": {
   "codemirror_mode": {
    "name": "ipython",
    "version": 3
   },
   "file_extension": ".py",
   "mimetype": "text/x-python",
   "name": "python",
   "nbconvert_exporter": "python",
   "pygments_lexer": "ipython3",
   "version": "3.5.2"
  }
 },
 "nbformat": 4,
 "nbformat_minor": 2
}
